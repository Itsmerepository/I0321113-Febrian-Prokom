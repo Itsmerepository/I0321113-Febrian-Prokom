{
 "cells": [
  {
   "cell_type": "markdown",
   "metadata": {},
   "source": [
    "***\n",
    "<h1 align=\"center\">Exercise 12</h1>\n",
    " \n",
    "***\n",
    "## Exeption\n",
    "## Exercise 12.1\n",
    "\n",
    "Salinlah code yang ada pada contoh 12.1"
   ]
  },
  {
   "cell_type": "code",
   "execution_count": 1,
   "metadata": {},
   "outputs": [
    {
     "name": "stdout",
     "output_type": "stream",
     "text": [
      "An Exception Occured\n"
     ]
    }
   ],
   "source": [
    "#kerjakan disini\n",
    "try:\n",
    "    print(x)\n",
    "except:\n",
    "    print(\"An Exception Occured\")"
   ]
  },
  {
   "cell_type": "markdown",
   "metadata": {},
   "source": [
    "## Exercise 12.2\n",
    "\n",
    "Salinlah code yang ada pada contoh 12.2"
   ]
  },
  {
   "cell_type": "code",
   "execution_count": 3,
   "metadata": {},
   "outputs": [
    {
     "name": "stdout",
     "output_type": "stream",
     "text": [
      "teknik\n"
     ]
    }
   ],
   "source": [
    "#kerjakan disini\n",
    "try:\n",
    "    x = 'teknik'\n",
    "    print(x)\n",
    "except:\n",
    "    print(\"An Exception Occured\")"
   ]
  },
  {
   "cell_type": "markdown",
   "metadata": {},
   "source": [
    "## Exercise 12.3\n",
    "\n",
    "Salinlah code yang ada pada contoh 12.3"
   ]
  },
  {
   "cell_type": "code",
   "execution_count": 5,
   "metadata": {},
   "outputs": [
    {
     "name": "stdout",
     "output_type": "stream",
     "text": [
      "Anda Mengetikkan \"%s\" % teks\n"
     ]
    }
   ],
   "source": [
    "#kerjakan disini\n",
    "try :\n",
    "    teks = input('Ketikkan sesuatu : ')\n",
    "except EOFError:\n",
    "    print('\\nKenapa sudah EOF?')\n",
    "except KeyboardInterrupt:\n",
    "    print('\\nAnda Membatalkan Operasi')\n",
    "else:\n",
    "    print('Anda Mengetikkan \"%s\" % teks')"
   ]
  },
  {
   "cell_type": "markdown",
   "metadata": {},
   "source": [
    "## Exercise 12.4\n",
    "\n",
    "Salinlah code yang ada pada contoh 12.4"
   ]
  },
  {
   "cell_type": "code",
   "execution_count": 6,
   "metadata": {},
   "outputs": [
    {
     "name": "stdout",
     "output_type": "stream",
     "text": [
      "Anda Mengetikkan \"%s\" % teks\n"
     ]
    }
   ],
   "source": [
    "#kerjakan disini\n",
    "try :\n",
    "    teks = input('Ketikkan sesuatu : ')\n",
    "except EOFError:\n",
    "    print('\\nKenapa sudah EOF?')\n",
    "except KeyboardInterrupt:\n",
    "    print('\\nAnda Membatalkan Operasi')\n",
    "else:\n",
    "    print('Anda Mengetikkan \"%s\" % teks')"
   ]
  },
  {
   "cell_type": "markdown",
   "metadata": {},
   "source": [
    "## Exercise 12.5\n",
    "\n",
    "Salinlah code yang ada pada contoh 12.5"
   ]
  },
  {
   "cell_type": "code",
   "execution_count": 2,
   "metadata": {},
   "outputs": [
    {
     "name": "stdout",
     "output_type": "stream",
     "text": [
      "\n",
      "File ditutup\n"
     ]
    }
   ],
   "source": [
    "#kerjakan disini\n",
    "import time\n",
    "\n",
    "try:\n",
    "    f = open('coba.txt')\n",
    "    while True:\n",
    "        baris = f.readline()\n",
    "        if len(baris) == 0:\n",
    "        \n",
    "            break\n",
    "        print (baris),\n",
    "        time.sleep(2)\n",
    "except KeyboardInterrupt:\n",
    "    print('\\nAnda Membatalkan Operasi')\n",
    "finally:\n",
    "    f.close()\n",
    "    print(\"\\nFile ditutup\")"
   ]
  },
  {
   "cell_type": "markdown",
   "metadata": {},
   "source": [
    "***\n",
    "<h1 align=\"center\">WELL DONE</h1>\n",
    " \n",
    "***"
   ]
  }
 ],
 "metadata": {
  "interpreter": {
   "hash": "fb4569285eef3a3450cb62085a5b1e0da4bce0af555edc33dcf29baf3acc1368"
  },
  "kernelspec": {
   "display_name": "Python 3.10.4 64-bit",
   "language": "python",
   "name": "python3"
  },
  "language_info": {
   "codemirror_mode": {
    "name": "ipython",
    "version": 3
   },
   "file_extension": ".py",
   "mimetype": "text/x-python",
   "name": "python",
   "nbconvert_exporter": "python",
   "pygments_lexer": "ipython3",
   "version": "3.10.4"
  },
  "orig_nbformat": 4
 },
 "nbformat": 4,
 "nbformat_minor": 2
}
